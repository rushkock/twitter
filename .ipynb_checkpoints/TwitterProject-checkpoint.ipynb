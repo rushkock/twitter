{
 "cells": [
  {
   "cell_type": "code",
   "execution_count": 1,
   "metadata": {},
   "outputs": [
    {
     "ename": "FileNotFoundError",
     "evalue": "[Errno 2] No such file or directory: 'geotagged_tweets_20160812-0912.jsons'",
     "output_type": "error",
     "traceback": [
      "\u001b[1;31m---------------------------------------------------------------------------\u001b[0m",
      "\u001b[1;31mFileNotFoundError\u001b[0m                         Traceback (most recent call last)",
      "\u001b[1;32m<ipython-input-1-bcf1e46aaf76>\u001b[0m in \u001b[0;36m<module>\u001b[1;34m\u001b[0m\n\u001b[0;32m      2\u001b[0m \u001b[1;33m\u001b[0m\u001b[0m\n\u001b[0;32m      3\u001b[0m \u001b[0mtweets_data\u001b[0m \u001b[1;33m=\u001b[0m \u001b[1;33m[\u001b[0m\u001b[1;33m]\u001b[0m\u001b[1;33m\u001b[0m\u001b[1;33m\u001b[0m\u001b[0m\n\u001b[1;32m----> 4\u001b[1;33m \u001b[0mtweets_file\u001b[0m \u001b[1;33m=\u001b[0m \u001b[0mopen\u001b[0m\u001b[1;33m(\u001b[0m\u001b[1;34m'geotagged_tweets_20160812-0912.jsons'\u001b[0m\u001b[1;33m,\u001b[0m \u001b[1;34m\"r\"\u001b[0m\u001b[1;33m)\u001b[0m\u001b[1;33m\u001b[0m\u001b[1;33m\u001b[0m\u001b[0m\n\u001b[0m\u001b[0;32m      5\u001b[0m \u001b[0mprint\u001b[0m\u001b[1;33m(\u001b[0m\u001b[0mtweets_file\u001b[0m\u001b[1;33m)\u001b[0m\u001b[1;33m\u001b[0m\u001b[1;33m\u001b[0m\u001b[0m\n\u001b[0;32m      6\u001b[0m \u001b[1;33m\u001b[0m\u001b[0m\n",
      "\u001b[1;31mFileNotFoundError\u001b[0m: [Errno 2] No such file or directory: 'geotagged_tweets_20160812-0912.jsons'"
     ]
    }
   ],
   "source": [
    "import json\n",
    "\n",
    "tweets_data = []\n",
    "tweets_file = open('geotagged_tweets_20160812-0912.jsons', \"r\")\n",
    "print(tweets_file)\n",
    "\n",
    "counter = 0\n",
    "for line in tweets_file:\n",
    "    counter = counter + 1\n",
    "    if counter > 50000:\n",
    "        break\n",
    "    try:\n",
    "        tweet = json.loads(line)\n",
    "        tweets_data.append(tweet)\n",
    "    except:\n",
    "        continue\n",
    "# This creates a python list of strings with json data in the string.  there's a lot of fields, and I can either\n",
    "# cherry pick the fields I want, or figure out how to read them all in and subset them once I have them in a nice dataframe\n",
    "\n",
    "print(tweets_data[1:10])"
   ]
  },
  {
   "cell_type": "code",
   "execution_count": null,
   "metadata": {
    "scrolled": true
   },
   "outputs": [],
   "source": [
    "import pandas as pd\n",
    "\n",
    "from pandas.io.json import json_normalize\n",
    "# Thank gawd for this package - all json fields straight into columns in a dataframe, no bullshit\n",
    "tweets_df = json_normalize(tweets_data)\n",
    "\n",
    "tweets_df.head()"
   ]
  },
  {
   "cell_type": "code",
   "execution_count": null,
   "metadata": {},
   "outputs": [],
   "source": [
    "# Uncomment code below if want to see all the column names from the twitter data\n",
    "\n",
    "# column_names=list(tweets_df.columns.values)\n",
    "# print(column_names)\n",
    "\n",
    "\n",
    "#Remove irrelevant columns\n",
    "to_drop = ['created_at','contributors', 'coordinates', 'coordinates.coordinates', 'coordinates.type', 'entities.hashtags',\n",
    "          'entities.media', 'entities.symbols', 'entities.symbols', 'entities.urls', 'entities.user_mentions',\n",
    "          'extended_entities.media', 'favorite_count', 'favorited', 'filter_level', 'id', 'id_str', 'in_reply_to_status_id',\n",
    "          'in_reply_to_status_id_str', 'in_reply_to_user_id', 'in_reply_to_user_id_str', 'is_quote_status',\n",
    "          'place.bounding_box.coordinates', 'place.bounding_box.type', 'possibly_sensitive', 'quoted_status.contributors', \n",
    "          'quoted_status.coordinates', 'quoted_status.created_at', 'quoted_status.entities.hashtags', 'quoted_status.entities.media',\n",
    "          'quoted_status.entities.symbols', 'quoted_status.entities.urls', 'quoted_status.entities.user_mentions',\n",
    "           'quoted_status.extended_entities.media', 'quoted_status.favorite_count', 'quoted_status.favorited', \n",
    "           'quoted_status.filter_level', 'quoted_status.geo', 'quoted_status.id', 'quoted_status.id_str',\n",
    "           'quoted_status.in_reply_to_screen_name', 'quoted_status.in_reply_to_status_id', \n",
    "           'quoted_status.in_reply_to_status_id_str', 'quoted_status.in_reply_to_user_id', \n",
    "           'quoted_status.in_reply_to_user_id_str', 'quoted_status.is_quote_status', 'quoted_status.lang', 'quoted_status.place',\n",
    "           'quoted_status.place.bounding_box.coordinates', 'quoted_status.place.bounding_box.type', 'quoted_status.place.country', \n",
    "           'quoted_status.place.country_code', 'quoted_status.place.full_name', 'quoted_status.place.id', \n",
    "           'quoted_status.place.name', 'quoted_status.place.place_type', 'quoted_status.place.url', \n",
    "           'quoted_status.possibly_sensitive', 'quoted_status.quoted_status_id', 'quoted_status.quoted_status_id_str', \n",
    "           'quoted_status.retweet_count', 'quoted_status.retweeted', 'quoted_status.source', 'quoted_status.text', \n",
    "           'quoted_status.truncated', 'quoted_status.user.contributors_enabled', 'quoted_status.user.created_at', \n",
    "           'quoted_status.user.default_profile', 'quoted_status.user.default_profile_image', 'quoted_status.user.description', \n",
    "           'quoted_status.user.favourites_count', 'quoted_status.user.follow_request_sent', 'quoted_status.user.followers_count', \n",
    "           'quoted_status.user.following', 'quoted_status.user.friends_count', 'quoted_status.user.geo_enabled', \n",
    "           'quoted_status.user.id', 'quoted_status.user.id_str', 'quoted_status.user.is_translator', 'quoted_status.user.lang', \n",
    "           'quoted_status.user.listed_count', 'quoted_status.user.location', 'quoted_status.user.name', \n",
    "           'quoted_status.user.notifications', 'quoted_status.user.profile_background_color', \n",
    "           'quoted_status.user.profile_background_image_url', 'quoted_status.user.profile_background_image_url_https',\n",
    "           'quoted_status.user.profile_background_tile', 'quoted_status.user.profile_banner_url',\n",
    "           'quoted_status.user.profile_image_url', 'quoted_status.user.profile_image_url_https',\n",
    "           'quoted_status.user.profile_link_color', 'quoted_status.user.profile_sidebar_border_color',\n",
    "           'quoted_status.user.profile_sidebar_fill_color', 'quoted_status.user.profile_text_color',\n",
    "           'quoted_status.user.profile_use_background_image', 'quoted_status.user.protected', 'quoted_status.user.screen_name', \n",
    "           'quoted_status.user.statuses_count', 'quoted_status.user.time_zone', 'quoted_status.user.url', \n",
    "           'quoted_status.user.utc_offset', 'quoted_status.user.verified', 'quoted_status_id', 'quoted_status_id_str', \n",
    "           'retweet_count', 'retweeted',  'truncated', 'user.contributors_enabled', 'user.created_at', 'user.default_profile', \n",
    "           'user.default_profile_image', 'user.description', 'user.favourites_count', 'user.follow_request_sent',\n",
    "           'user.followers_count', 'user.following', 'user.friends_count', 'user.geo_enabled', 'user.id', 'user.id_str', \n",
    "           'user.is_translator','user.listed_count', 'user.location','user.notifications', 'user.profile_background_color',\n",
    "           'user.profile_background_image_url', 'user.profile_background_image_url_https', 'user.profile_background_tile',\n",
    "           'user.profile_banner_url', 'user.profile_image_url', 'user.profile_image_url_https', 'user.profile_link_color', \n",
    "           'user.profile_sidebar_border_color', 'user.profile_sidebar_fill_color', 'user.profile_text_color',\n",
    "           'user.profile_use_background_image', 'user.protected', 'user.screen_name', 'user.statuses_count', \n",
    "           'user.time_zone', 'user.url', 'user.utc_offset', 'user.verified', 'source', 'timestamp_ms']\n",
    "tweets_df.drop(to_drop, axis=1, inplace=True)\n",
    "\n",
    "#Below you can see the columns that we are keeping o=in our df\n",
    "column_names_to_keep=list(tweets_df.columns.values)\n",
    "print(column_names_to_keep)\n",
    "tweets_df"
   ]
  },
  {
   "cell_type": "code",
   "execution_count": null,
   "metadata": {
    "scrolled": true
   },
   "outputs": [],
   "source": [
    "#Tweets location\n",
    "\n",
    "tweets_by_lang = tweets_df['place.country'].value_counts()\n",
    "\n",
    "fig, ax = plt.subplots()\n",
    "ax.tick_params(axis='x', labelsize=15)\n",
    "ax.tick_params(axis='y', labelsize=10)\n",
    "ax.set_xlabel('Country', fontsize=15)\n",
    "ax.set_ylabel('Number of tweets' , fontsize=15)\n",
    "ax.set_title('Top 10 Countries', fontsize=15, fontweight='bold')\n",
    "tweets_by_lang[:10].plot(ax=ax, kind='bar', color='green')"
   ]
  },
  {
   "cell_type": "code",
   "execution_count": null,
   "metadata": {},
   "outputs": [],
   "source": [
    "#Downloaded final voting data on csv and filtering on year 2016\n",
    "voting_data = pd.read_csv('1976-2016-president.csv')\n",
    "voting_2016=voting_data.loc[voting_data['year'] == 2016]\n",
    "voting_2016"
   ]
  },
  {
   "cell_type": "code",
   "execution_count": null,
   "metadata": {},
   "outputs": [],
   "source": [
    "# By keeping on the first row per state, we get the figures for the winner on each state\n",
    "winner = voting_2016.drop_duplicates(subset=['state'])\n",
    "winner=winner.assign(votespercentage=winner.candidatevotes/winner.totalvotes)\n",
    "winner\n"
   ]
  },
  {
   "cell_type": "code",
   "execution_count": null,
   "metadata": {
    "scrolled": true
   },
   "outputs": [],
   "source": [
    "#Subset of States where Trump eventually won\n",
    "import folium\n",
    "winner\n",
    "only_Trump=winner[winner['candidate'].str.contains(\"Trump\")]\n",
    "only_Trump\n",
    "url = 'https://raw.githubusercontent.com/python-visualization/folium/master/examples/data'\n",
    "state_geo = f'{url}/us-states.json'\n",
    "Trump = folium.Map(location=[48, -102], zoom_start=3)\n",
    "\n",
    "folium.Choropleth(\n",
    "    geo_data=state_geo,\n",
    "    name='choropleth',\n",
    "    data=only_Trump,\n",
    "    columns=['state_po', 'votespercentage'],\n",
    "    key_on='feature.id',\n",
    "    fill_color='OrRd',\n",
    "    fill_opacity=0.9,\n",
    "    line_opacity=0.2,\n",
    "    nan_fill_color='blue', #For the states where no data is available, the fill color will be blue (democrat)\n",
    "    nan_fill_opacity=0.8,\n",
    "    legend_name='Total Votes (%)'\n",
    ").add_to(Trump)\n",
    "\n",
    "folium.LayerControl().add_to(Trump)\n",
    "\n",
    "Trump"
   ]
  },
  {
   "cell_type": "code",
   "execution_count": null,
   "metadata": {
    "scrolled": true
   },
   "outputs": [],
   "source": [
    "#Subset of States where Clinton eventually won\n",
    "only_Clinton=winner[winner['candidate'].str.contains(\"Clinton\")]\n",
    "only_Clinton=only_Clinton[~only_Clinton.state_po.str.contains('DC')] #I am dropping the district of Columbia since the \n",
    "# votes percentage is way higher than the rest 90% and it affects the scale\n",
    "only_Clinton\n",
    "url = 'https://raw.githubusercontent.com/python-visualization/folium/master/examples/data'\n",
    "state_geo = f'{url}/us-states.json'\n",
    "\n",
    "Clinton = folium.Map(location=[48, -102], zoom_start=3)\n",
    "\n",
    "folium.Choropleth(\n",
    "    geo_data=state_geo,\n",
    "    name='choropleth',\n",
    "    data=only_Clinton,\n",
    "    columns=['state_po', 'votespercentage'],\n",
    "    key_on='feature.id',\n",
    "    fill_color='PuBu',\n",
    "    fill_opacity=0.95,\n",
    "    line_opacity=0.2,\n",
    "    nan_fill_color='red', #For the states where no data is available, the fill color will be red (republican)\n",
    "    nan_fill_opacity=0.8,\n",
    "    legend_name='Total Votes (%)'\n",
    ").add_to(Clinton)\n",
    "\n",
    "folium.LayerControl().add_to(Clinton)\n",
    "\n",
    "Clinton"
   ]
  },
  {
   "cell_type": "code",
   "execution_count": null,
   "metadata": {},
   "outputs": [],
   "source": []
  }
 ],
 "metadata": {
  "kernelspec": {
   "display_name": "Python 3",
   "language": "python",
   "name": "python3"
  },
  "language_info": {
   "codemirror_mode": {
    "name": "ipython",
    "version": 3
   },
   "file_extension": ".py",
   "mimetype": "text/x-python",
   "name": "python",
   "nbconvert_exporter": "python",
   "pygments_lexer": "ipython3",
   "version": "3.7.3"
  }
 },
 "nbformat": 4,
 "nbformat_minor": 2
}
